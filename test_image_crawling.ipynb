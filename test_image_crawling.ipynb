{
 "cells": [
  {
   "cell_type": "code",
   "execution_count": 3,
   "metadata": {},
   "outputs": [],
   "source": [
    "import numpy as np\n",
    "import cv2\n",
    "import matplotlib.pyplot as plt\n",
    "from selenium.webdriver.common.keys import Keys\n",
    "from selenium import webdriver\n",
    "from bs4 import BeautifulSoup\n",
    "import requests\n",
    "import time\n",
    "import re \n",
    "import shutil\n",
    "import os \n",
    "\n",
    "\n",
    "\n",
    "def make_mosaic(X,ratio=12,color=False):\n",
    "    if not color:\n",
    "        newX = np.zeros((np.array(X.shape)).astype(int))\n",
    "        kernel = np.ones((ratio,ratio))\n",
    "\n",
    "        for k in range(int(X.shape[0]/4),int(X.shape[0]/4)*3,ratio):\n",
    "            for l in range(int(X.shape[1]/4),int(X.shape[1]/4)*3,ratio):\n",
    "                mean = np.mean(X[k:k+ratio,l:l+ratio]*kernel)\n",
    "                newX[k:k+ratio,l:l+ratio] = mean\n",
    "\n",
    "        for i in range(X.shape[0]):\n",
    "            for j in range(X.shape[1]):\n",
    "                if int(X.shape[0]/4)<=i<3*int(X.shape[0]/4) and int(X.shape[1]/4)<=j<3*int(X.shape[1]/4):\n",
    "                    continue\n",
    "                else:\n",
    "                    newX[i,j] = X[i,j]\n",
    "    \n",
    "    else:\n",
    "        newX = np.zeros((np.array(X.shape)).astype(int))\n",
    "        kernel = np.ones((ratio,ratio))\n",
    "\n",
    "        for k in range(int(X.shape[0]/4),int(X.shape[0]/4)*3,ratio):\n",
    "            for l in range(int(X.shape[1]/4),int(X.shape[1]/4)*3,ratio):\n",
    "                for j in range(0,3):\n",
    "                    mean = np.mean(X[k:k+ratio,l:l+ratio,j]*kernel)\n",
    "                    newX[k:k+ratio,l:l+ratio,j] = mean\n",
    "\n",
    "        for i in range(X.shape[0]):\n",
    "            for j in range(X.shape[1]):\n",
    "                for k in range(0,3):\n",
    "                    if int(X.shape[0]/4)<=i<3*int(X.shape[0]/4) and int(X.shape[1]/4)<=j<3*int(X.shape[1]/4):\n",
    "                        continue\n",
    "                    else:\n",
    "                        newX[i,j,k] = X[i,j,k]\n",
    "    \n",
    "    return newX/255.\n",
    "\n",
    "def save_img(directory,driver,count):\n",
    "    html = driver.page_source\n",
    "    soup = BeautifulSoup(html,'lxml')\n",
    "    url = soup.select(\"div.image > img\")[0].get('src')\n",
    "\n",
    "    resp=requests.get(url,stream=True)\n",
    "    filename = directory+'/test_{}.jpg'.format(str(count))\n",
    "    local_file = open(filename,'wb')\n",
    "    resp.raw.decode_content=True\n",
    "    shutil.copyfileobj(resp.raw,local_file)\n",
    "    return \n",
    "\n",
    "def next_to(driver):\n",
    "    try:\n",
    "        driver.find_element_by_xpath(\"//*[@id=\\\"main_pack\\\"]/section/div[2]/div[2]/div/div[1]/div[1]/div[2]/a[2]/i\").click()\n",
    "    except:\n",
    "        try:\n",
    "            driver.find_element_by_xpath(\"//*[@id=\\\"main_pack\\\"]/section/div/div[2]/div/div[1]/div[1]/div[2]/a[2]\").click()\n",
    "        except:\n",
    "            driver.execute_script('window.scrollTo(0, 1);')\n",
    "            driver.execute_script('window.scrollTo(0, document.body.scrollHeight);')\n",
    "    return"
   ]
  },
  {
   "cell_type": "code",
   "execution_count": null,
   "metadata": {},
   "outputs": [],
   "source": [
    "train_keyword_list=['카페','꽃','커피','컴퓨터','구름','선풍기','에어컨','책','음료','카메라','안경','건물','집','자동차','템버린','햄버거','돌고래','커튼','접시','배게','가방','고양이','멍멍이','튜브','수박','경찰차','스피커','연필','볼펜','필통','과자','의자','총','여우','코끼리','곰','파인애플','복숭아','체리','테디베어','머그컵','거울','신발','드라이기','셔츠','리코더','악기','모자','축구공','손바닥','팔찌','반지','목걸이','귀걸이','케익','떡볶이','계란','라면','돼지','돈가스','고구마','아이스크림','감자','허수아비','튀김','파스타','치킨','리조또','랍스타','피자','포크','나이프','숟가락','샤워기','칫솔','신호등','유모차','삼각자','컴퍼스','와인','소주','맥주','귀마개','촛불','간판','핸드폰','테블릿','콘센트','시계','은행','돈','카드','지갑','상자','빔프로젝트','소화기','충전기','텀블러','수첩','립스틱','섀도우','시소','그네','미끄럼틀','트램펄린','정글집','철봉','평행봉','방석','뜀틀','농구공','테니스','골프공','야구공','수영모자','감자전','막걸리','패딩','눈사람','산타클로스','국기','나무','덤벨','의자','총','여우','코끼리','곰','파인애플','복숭아','체리','테디베어','머그컵','거울','신발','드라이기','셔츠','리코더','악기','모자','축구공','손바닥','팔찌','반지','목걸이','귀걸이','케익','떡볶이','계란','라면','돼지','돈가스','고구마','아이스크림','감자','허수아비','튀김','파스타','치킨','리조또','랍스타','피자','포크','나이프','숟가락','샤워기','칫솔','신호등','유모차','삼각자','컴퍼스','와인','소주','맥주','귀마개','촛불','간판','핸드폰','테블릿','콘센트','시계','은행','돈','카드','지갑','상자','빔프로젝트','소화기','충전기','텀블러','수첩','립스틱','섀도우','시소','그네','미끄럼틀','트램펄린','정글집','철봉','평행봉','방석','뜀틀','농구공','테니스','골프공','야구공','수영모자','감자전','막걸리','패딩','눈사람','산타클로스','국기','나무','덤벨','과일','매니큐어','휴지','달력','벤치프레스','턱걸이','러닝머신','자전거','마라톤','토익','수능','교복','고딩','네이버','파이썬','딥러닝','자바','아이유','한예슬','강민경','한지민','한채영','강다니엘','박정민','황정민','남주혁','박보검','이순재','이정재','정우성','원빈','김희철','손담비','김사랑','라미란','하지원','전원주','빌리아일리시','엠마왓슨','힐러리','패리스힐튼','레이디가가','에드시런','콜드플레이','마룬파이브','찰리푸스','톰크루즈','브루노마스','마이클잭슨','마이클조던','스테판커리','르브론제임스','듀아리파','아리아나그란데','제시','이효리','효린','아이돌']\n",
    "len(train_keyword_list)"
   ]
  },
  {
   "cell_type": "code",
   "execution_count": null,
   "metadata": {},
   "outputs": [],
   "source": [
    "test_keyword_list=[]"
   ]
  },
  {
   "cell_type": "code",
   "execution_count": 4,
   "metadata": {},
   "outputs": [
    {
     "data": {
      "text/plain": [
       "18"
      ]
     },
     "execution_count": 4,
     "metadata": {},
     "output_type": "execute_result"
    }
   ],
   "source": [
    "test_keyword_list = ['사과', '귤', '스킨로션', '바구니', '선반', '스프링', '고무줄', '아이스아메리카노', '장미', '아파트', '백팩','LG휴대폰','플스','운동화','비둘기','폭풍','뽀로로','시카마루']\n",
    "len(test_keyword_list)"
   ]
  },
  {
   "cell_type": "code",
   "execution_count": null,
   "metadata": {},
   "outputs": [],
   "source": [
    "# keyword_list=['카페','꽃','커피','컴퓨터','구름','선풍기','에어컨','책','음료','카메라','안경','건물','집','자동차','템버린','햄버거','돌고래','커튼','접시','배게','가방','고양이','멍멍이','튜브','수박','경찰차','스피커','연필','볼펜','필통','과자','의자','총','여우','코끼리','곰','파인애플','복숭아','체리','테디베어','머그컵','거울','신발','드라이기','셔츠','리코더','악기','모자','축구공','손바닥','팔찌','반지','목걸이','귀걸이','케익','떡볶이','계란','라면','돼지','돈가스','고구마','아이스크림','감자','허수아비','튀김','파스타','치킨','리조또','랍스타','피자','포크','나이프','숟가락','샤워기','칫솔','신호등','유모차','삼각자','컴퍼스','와인','소주','맥주','귀마개','촛불','간판','핸드폰','테블릿','콘센트','시계','은행','돈','카드','지갑','상자','빔프로젝트','소화기','충전기','텀블러','수첩','립스틱','섀도우','시소','그네','미끄럼틀','트램펄린','정글집','철봉','평행봉','방석','뜀틀','농구공','테니스','골프공','야구공','수영모자','감자전','막걸리','패딩','눈사람','산타클로스','국기','나무','덤벨']\n",
    "# '커피','컴퓨터','구름','선풍기','에어컨','책','음료','카메라','안경','건물','집','자동차','템버린','햄버거','돌고래','커튼','접시','배게','가방','고양이','멍멍이','튜브','수박','경찰차','스피커','연필','볼펜','필통','과자'\n",
    "picture_num=100\n",
    "\n",
    "for keyword in test_keyword_list:\n",
    "    img_folder_path = 'G:/내 드라이브/P_project/datasets/test/test_raw_image/시연영상/'\n",
    "\n",
    "    driver = webdriver.Chrome()\n",
    "    driver.get('https://search.naver.com/search.naver?where=image&sm=tab_jum&query={}'.format(keyword))\n",
    "    time.sleep(3)\n",
    "    driver.maximize_window()\n",
    "    try:\n",
    "        driver.find_element_by_xpath(\"//*[@id=\\\"main_pack\\\"]/section/div[2]/div[1]/div[1]/div[1]/div/div[1]/a\").click()\n",
    "    except:\n",
    "        driver.find_element_by_xpath(\"//*[@id=\\\"main_pack\\\"]/section/div/div[1]/div[1]/div[1]/div/div[1]/a\").click()\n",
    "    html = driver.page_source\n",
    "    soup = BeautifulSoup(html,'lxml')\n",
    "    url = soup.select(\"div.image > img\")[0].get('src')\n",
    "    count=0\n",
    "    scroll_count = 0\n",
    "\n",
    "\n",
    "    if not os.path.isdir(img_folder_path+keyword): \n",
    "        os.mkdir(img_folder_path+keyword+\"/\")\n",
    "\n",
    "    while count<=picture_num-1:\n",
    "        save_img(img_folder_path+keyword,driver,count)\n",
    "        next_to(driver)\n",
    "        count+=1\n",
    "        scroll_count+=1\n",
    "        if scroll_count>=12:\n",
    "            print(count)\n",
    "            driver.execute_script('window.scrollTo(0, document.body.scrollHeight);')\n",
    "            scroll_count=0\n",
    "            time.sleep(10) \n",
    "        time.sleep(1)\n",
    "    print(keyword,\" 완료\")"
   ]
  },
  {
   "cell_type": "code",
   "execution_count": 5,
   "metadata": {},
   "outputs": [],
   "source": [
    "(64,2)\n",
    "(128,2)\n",
    "(128,4)\n",
    "(256,4)\n",
    "(256,8)\n",
    "ratio = 6\n",
    "imsize = 256\n"
   ]
  },
  {
   "cell_type": "code",
   "execution_count": null,
   "metadata": {},
   "outputs": [
    {
     "name": "stdout",
     "output_type": "stream",
     "text": [
      "사과  진행중...\n"
     ]
    }
   ],
   "source": [
    "filepath = \"G:/내 드라이브/P_project/\"\n",
    "npy_x = []\n",
    "npy_y = []\n",
    "count=0\n",
    "for keyword in test_keyword_list:\n",
    "    print(keyword,\" 진행중...\")\n",
    "    for i in range(1,100):\n",
    "        try:\n",
    "            file = filepath+\"datasets/test/test_raw_image/\"+keyword+\"/test_{}.jpg\".format(i)\n",
    "            # pre_img = cv2.imread(file,cv2.IMREAD_GRAYSCALE)\n",
    "            pre_img = np.fromfile(file,np.uint8)\n",
    "            pre_img = cv2.imdecode(pre_img,cv2.IMREAD_COLOR)\n",
    "            pre_img = cv2.cvtColor(pre_img,cv2.COLOR_BGR2RGB)\n",
    "            y_img = cv2.resize(pre_img,dsize=(imsize,imsize))\n",
    "            x_img = make_mosaic(y_img,ratio=ratio,color=True)\n",
    "            npy_x.append(x_img)\n",
    "            npy_y.append(y_img)\n",
    "            s_count = str(count)\n",
    "            zero = 5-len(s_count)\n",
    "            #cv2.imwrite(\"./datasets\"+\"/test/test_x/x_{}_{}_{}.jpg\".format(\"0\"*zero+s_count,str(imsize),str(ratio)),x_img)\n",
    "            #cv2.imwrite(\"./datasets\"+\"/test/test_y/y_{}_{}_{}.jpg\".format(\"0\"*zero+s_count,str(imsize),str(ratio)),y_img)\n",
    "            count+=1\n",
    "        except:\n",
    "            continue\n",
    "    print(keyword,\" 완료\")\n",
    "    print(((test_keyword_list.index(keyword)+1)/len(test_keyword_list))*100,\"% 진행\")\n",
    "npy_x = np.array(npy_x).reshape(-1,imsize,imsize,3)\n",
    "npy_y = np.array(npy_y).reshape(-1,imsize,imsize,3)\n",
    "np.save(filepath+\"C:/models/npy_x_{}_{}.npy\".format(str(imsize),str(ratio)),arr=npy_x)\n",
    "np.save(filepath+\"C:/models/npy_y_{}_{}.npy\".format(str(imsize),str(ratio)),arr=npy_y)"
   ]
  },
  {
   "cell_type": "code",
   "execution_count": null,
   "metadata": {},
   "outputs": [],
   "source": [
    "(64,2)\n",
    "(128,2)\n",
    "(128,4)\n",
    "(256,4)\n",
    "(256,8)\n",
    "ratio = 8\n",
    "imsize = 256\n"
   ]
  },
  {
   "cell_type": "code",
   "execution_count": null,
   "metadata": {},
   "outputs": [],
   "source": [
    "filepath = \"G:/내 드라이브/P_project/\"\n",
    "npy_x = []\n",
    "npy_y = []\n",
    "count=0\n",
    "for keyword in test_keyword_list:\n",
    "    print(keyword,\" 진행중...\")\n",
    "    for i in range(1,100):\n",
    "        try:\n",
    "            file = filepath+\"datasets/test/test_raw_image/\"+keyword+\"/test_{}.jpg\".format(i)\n",
    "            # pre_img = cv2.imread(file,cv2.IMREAD_GRAYSCALE)\n",
    "            pre_img = np.fromfile(file,np.uint8)\n",
    "            pre_img = cv2.imdecode(pre_img,cv2.IMREAD_COLOR)\n",
    "            pre_img = cv2.cvtColor(pre_img,cv2.COLOR_BGR2RGB)\n",
    "            y_img = cv2.resize(pre_img,dsize=(imsize,imsize))\n",
    "            x_img = make_mosaic(y_img,ratio=ratio,color=True)\n",
    "            npy_x.append(x_img)\n",
    "            npy_y.append(y_img)\n",
    "            s_count = str(count)\n",
    "            zero = 5-len(s_count)\n",
    "            cv2.imwrite(\"./datasets\"+\"/test/test_x/x_{}_{}_{}.jpg\".format(\"0\"*zero+s_count,str(imsize),str(ratio)),x_img)\n",
    "            cv2.imwrite(\"./datasets\"+\"/test/test_y/y_{}_{}_{}.jpg\".format(\"0\"*zero+s_count,str(imsize),str(ratio)),y_img)\n",
    "            count+=1\n",
    "        except:\n",
    "            continue\n",
    "    print(keyword,\" 완료\")\n",
    "    print(((test_keyword_list.index(keyword)+1)/len(test_keyword_list))*100,\"% 진행\")\n",
    "npy_x = np.array(npy_x).reshape(-1,imsize,imsize,3)\n",
    "npy_y = np.array(npy_y).reshape(-1,imsize,imsize,3)\n",
    "np.save(filepath+\"C:/models/npy_x_{}_{}.npy\".format(str(imsize),str(ratio)),arr=npy_x)\n",
    "np.save(filepath+\"C:/models/npy_y_{}_{}.npy\".format(str(imsize),str(ratio)),arr=npy_y)"
   ]
  },
  {
   "cell_type": "code",
   "execution_count": null,
   "metadata": {},
   "outputs": [],
   "source": []
  }
 ],
 "metadata": {
  "kernelspec": {
   "display_name": "Python 3",
   "language": "python",
   "name": "python3"
  },
  "language_info": {
   "codemirror_mode": {
    "name": "ipython",
    "version": 3
   },
   "file_extension": ".py",
   "mimetype": "text/x-python",
   "name": "python",
   "nbconvert_exporter": "python",
   "pygments_lexer": "ipython3",
   "version": "3.8.5"
  }
 },
 "nbformat": 4,
 "nbformat_minor": 4
}
